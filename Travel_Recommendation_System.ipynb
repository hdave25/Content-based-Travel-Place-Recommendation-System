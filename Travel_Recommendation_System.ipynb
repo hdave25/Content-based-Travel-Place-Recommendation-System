{
  "nbformat": 4,
  "nbformat_minor": 0,
  "metadata": {
    "colab": {
      "name": "Travel_Recommendation_System.ipynb",
      "provenance": [],
      "collapsed_sections": []
    },
    "kernelspec": {
      "name": "python3",
      "display_name": "Python 3"
    },
    "accelerator": "GPU"
  },
  "cells": [
    {
      "cell_type": "code",
      "metadata": {
        "id": "gL7edKIZaysP",
        "colab_type": "code",
        "outputId": "c1cc91e3-135b-4e2e-96fd-73ba3f675ca8",
        "colab": {
          "base_uri": "https://localhost:8080/",
          "height": 17
        }
      },
      "source": [
        "import pandas as pd\n",
        "import numpy as np\n",
        "from nltk.corpus import stopwords\n",
        "from sklearn.metrics.pairwise import linear_kernel\n",
        "from sklearn.feature_extraction.text import CountVectorizer\n",
        "from sklearn.feature_extraction.text import TfidfVectorizer\n",
        "from sklearn.decomposition import LatentDirichletAllocation\n",
        "from sklearn.metrics.pairwise import cosine_similarity\n",
        "from sklearn.feature_extraction.text import CountVectorizer\n",
        "import re\n",
        "import random\n",
        "import cufflinks\n",
        "pd.options.display.max_columns = 30\n",
        "from IPython.core.interactiveshell import InteractiveShell\n",
        "import plotly.figure_factory as ff\n",
        "cufflinks.go_offline()\n",
        "cufflinks.set_config_file(world_readable=True, theme='solar')"
      ],
      "execution_count": 1,
      "outputs": [
        {
          "output_type": "display_data",
          "data": {
            "text/html": [
              "        <script type=\"text/javascript\">\n",
              "        window.PlotlyConfig = {MathJaxConfig: 'local'};\n",
              "        if (window.MathJax) {MathJax.Hub.Config({SVG: {font: \"STIX-Web\"}});}\n",
              "        if (typeof require !== 'undefined') {\n",
              "        require.undef(\"plotly\");\n",
              "        requirejs.config({\n",
              "            paths: {\n",
              "                'plotly': ['https://cdn.plot.ly/plotly-latest.min']\n",
              "            }\n",
              "        });\n",
              "        require(['plotly'], function(Plotly) {\n",
              "            window._Plotly = Plotly;\n",
              "        });\n",
              "        }\n",
              "        </script>\n",
              "        "
            ]
          },
          "metadata": {
            "tags": []
          }
        }
      ]
    },
    {
      "cell_type": "code",
      "metadata": {
        "id": "Er1N4nyrbNW2",
        "colab_type": "code",
        "outputId": "804ddf98-5d0c-4b03-bd2f-4436da1a428b",
        "colab": {
          "base_uri": "https://localhost:8080/",
          "height": 35
        }
      },
      "source": [
        "df = pd.read_csv('Travel_Data.csv', encoding=\"latin-1\")\n",
        "df.head()\n",
        "print('We have', len(df), 'Travel places in the data')"
      ],
      "execution_count": 2,
      "outputs": [
        {
          "output_type": "stream",
          "text": [
            "We have 225 Travel places in the data\n"
          ],
          "name": "stdout"
        }
      ]
    },
    {
      "cell_type": "code",
      "metadata": {
        "id": "VQ5zznbRbj0t",
        "colab_type": "code",
        "outputId": "c2770b16-0a0f-42a0-ea3f-d9bf1f22e05f",
        "colab": {
          "base_uri": "https://localhost:8080/",
          "height": 194
        }
      },
      "source": [
        "df.head()"
      ],
      "execution_count": 3,
      "outputs": [
        {
          "output_type": "execute_result",
          "data": {
            "text/html": [
              "<div>\n",
              "<style scoped>\n",
              "    .dataframe tbody tr th:only-of-type {\n",
              "        vertical-align: middle;\n",
              "    }\n",
              "\n",
              "    .dataframe tbody tr th {\n",
              "        vertical-align: top;\n",
              "    }\n",
              "\n",
              "    .dataframe thead th {\n",
              "        text-align: right;\n",
              "    }\n",
              "</style>\n",
              "<table border=\"1\" class=\"dataframe\">\n",
              "  <thead>\n",
              "    <tr style=\"text-align: right;\">\n",
              "      <th></th>\n",
              "      <th>ID</th>\n",
              "      <th>Name</th>\n",
              "      <th>Type</th>\n",
              "      <th>Description</th>\n",
              "    </tr>\n",
              "  </thead>\n",
              "  <tbody>\n",
              "    <tr>\n",
              "      <th>0</th>\n",
              "      <td>1</td>\n",
              "      <td>Luksentyre, Outer Hebrides, Scotland</td>\n",
              "      <td>Beach</td>\n",
              "      <td>At the end of a winding road on the wind-batte...</td>\n",
              "    </tr>\n",
              "    <tr>\n",
              "      <th>1</th>\n",
              "      <td>2</td>\n",
              "      <td>Dune Du Pilat, France</td>\n",
              "      <td>Beach</td>\n",
              "      <td>In the warmer months, Europes tallest sand du...</td>\n",
              "    </tr>\n",
              "    <tr>\n",
              "      <th>2</th>\n",
              "      <td>3</td>\n",
              "      <td>Ora Beach Indonesia</td>\n",
              "      <td>Beach</td>\n",
              "      <td>With a higgledy-piggledy 37,000-mile coastline...</td>\n",
              "    </tr>\n",
              "    <tr>\n",
              "      <th>3</th>\n",
              "      <td>4</td>\n",
              "      <td>Awaroa South Island New Zealand</td>\n",
              "      <td>Beach</td>\n",
              "      <td>Set deep in the heart of New Zealands gloriou...</td>\n",
              "    </tr>\n",
              "    <tr>\n",
              "      <th>4</th>\n",
              "      <td>5</td>\n",
              "      <td>Die Plast Walker Bay Nature Reserve South Africa</td>\n",
              "      <td>Beach</td>\n",
              "      <td>Dont be surprised to spot the occasional sout...</td>\n",
              "    </tr>\n",
              "  </tbody>\n",
              "</table>\n",
              "</div>"
            ],
            "text/plain": [
              "   ID                                              Name   Type  \\\n",
              "0   1              Luksentyre, Outer Hebrides, Scotland  Beach   \n",
              "1   2                             Dune Du Pilat, France  Beach   \n",
              "2   3                               Ora Beach Indonesia  Beach   \n",
              "3   4                   Awaroa South Island New Zealand  Beach   \n",
              "4   5  Die Plast Walker Bay Nature Reserve South Africa  Beach   \n",
              "\n",
              "                                         Description  \n",
              "0  At the end of a winding road on the wind-batte...  \n",
              "1  In the warmer months, Europes tallest sand du...  \n",
              "2  With a higgledy-piggledy 37,000-mile coastline...  \n",
              "3  Set deep in the heart of New Zealands gloriou...  \n",
              "4  Dont be surprised to spot the occasional sout...  "
            ]
          },
          "metadata": {
            "tags": []
          },
          "execution_count": 3
        }
      ]
    },
    {
      "cell_type": "code",
      "metadata": {
        "id": "J9B95iYFbq5_",
        "colab_type": "code",
        "outputId": "b57f829c-e523-4e23-effc-43a3ae3f76f7",
        "colab": {
          "base_uri": "https://localhost:8080/",
          "height": 90
        }
      },
      "source": [
        "ex = df[df.index==0].values[0]\n",
        "ex"
      ],
      "execution_count": 4,
      "outputs": [
        {
          "output_type": "execute_result",
          "data": {
            "text/plain": [
              "array([1, 'Luksentyre, Outer Hebrides, Scotland', 'Beach',\n",
              "       'At the end of a winding road on the wind-battered west coast of the Isle of Harris, you\\x92ll find something to make your eyes pop. Luskentyre Beach is a paint splash of brilliant white, surrounded by almost impossibly azure water. On a sunny day, it\\x92s so unerringly blue you may find it hard to believe you are at a beach in Scotland at all. But regardless of its paradoxically tropical feel, it\\x92s at its most beautiful when eel-coloured storm clouds roll in and seas turn flinty, turning this dramatic landscape an eerie monochrome.'],\n",
              "      dtype=object)"
            ]
          },
          "metadata": {
            "tags": []
          },
          "execution_count": 4
        }
      ]
    },
    {
      "cell_type": "code",
      "metadata": {
        "id": "-Z9IXf2EsQ6f",
        "colab_type": "code",
        "outputId": "97e1af3a-925c-4583-d30f-167010515362",
        "colab": {
          "base_uri": "https://localhost:8080/",
          "height": 70
        }
      },
      "source": [
        "import nltk\n",
        "nltk.download('stopwords')"
      ],
      "execution_count": 5,
      "outputs": [
        {
          "output_type": "stream",
          "text": [
            "[nltk_data] Downloading package stopwords to /root/nltk_data...\n",
            "[nltk_data]   Package stopwords is already up-to-date!\n"
          ],
          "name": "stdout"
        },
        {
          "output_type": "execute_result",
          "data": {
            "text/plain": [
              "True"
            ]
          },
          "metadata": {
            "tags": []
          },
          "execution_count": 5
        }
      ]
    },
    {
      "cell_type": "code",
      "metadata": {
        "id": "ahMSRhVAb9oD",
        "colab_type": "code",
        "colab": {}
      },
      "source": [
        "REPLACE_BY_SPACE_RE = re.compile('[/(){}\\[\\]\\|@,;]')\n",
        "BAD_SYMBOLS_RE = re.compile('[^0-9a-z #+_]')\n",
        "STOPWORDS = set(stopwords.words('english'))\n",
        "\n",
        "def clean_text(text):\n",
        "    \"\"\"\n",
        "        text: a string\n",
        "        \n",
        "        return: modified initial string\n",
        "    \"\"\"\n",
        "    text = text.lower() # lowercase text\n",
        "    text = REPLACE_BY_SPACE_RE.sub(' ', text) # replace REPLACE_BY_SPACE_RE symbols by space in text. substitute the matched string in REPLACE_BY_SPACE_RE with space.\n",
        "    text = BAD_SYMBOLS_RE.sub('', text) # remove symbols which are in BAD_SYMBOLS_RE from text. substitute the matched string in BAD_SYMBOLS_RE with nothing. \n",
        "    text = ' '.join(word for word in text.split() if word not in STOPWORDS) # remove stopwors from text\n",
        "    return text\n",
        "    \n",
        "df['Description_Clean'] = df['Description'].apply(clean_text)"
      ],
      "execution_count": 0,
      "outputs": []
    },
    {
      "cell_type": "code",
      "metadata": {
        "id": "XYXBS9EWxpmB",
        "colab_type": "code",
        "colab": {}
      },
      "source": [
        "df.set_index('Name', inplace = True)\n",
        "tf = TfidfVectorizer(analyzer='word', ngram_range=(1, 3), min_df=0, stop_words='english')\n",
        "tfidf_matrix = tf.fit_transform(df['Description_Clean']) \n",
        "indices = pd.Series(df.index)\n",
        "\n",
        "def get_recommendations(user_arr):\n",
        "  rec_places = []\n",
        "  vectors = []\n",
        "  idx = []\n",
        "  for u in user_arr:\n",
        "    idx.append(indices[indices == u].index[0])\n",
        "  for i in idx:\n",
        "    vectors.append(tfidf_matrix[i])\n",
        "\n",
        "  avg_vec = sum(vectors)/len(vectors)\n",
        "  avg_vec_sim = linear_kernel(avg_vec, tfidf_matrix)\n",
        "\n",
        "  avg_vec_sim = avg_vec_sim.flatten()\n",
        "\n",
        "  top_10_rec = pd.Series(avg_vec_sim).sort_values(ascending = False)\n",
        "  top_10_indexes = list(top_10_rec.iloc[1:len(user_arr)+11].index)\n",
        "  rec_places = []\n",
        "  for i in top_10_indexes:\n",
        "        rec_places.append([list(df.index)[i], df['Type'][i]])\n",
        "\n",
        "  return rec_places\n",
        "\n"
      ],
      "execution_count": 0,
      "outputs": []
    },
    {
      "cell_type": "code",
      "metadata": {
        "id": "brF5Nx50tCrp",
        "colab_type": "code",
        "colab": {}
      },
      "source": [
        "user_arr = ['National Gallery of Canada in Ottawa'] \n",
        "rec_places = get_recommendations(user_arr)"
      ],
      "execution_count": 0,
      "outputs": []
    },
    {
      "cell_type": "code",
      "metadata": {
        "id": "A0ij4UdNzeRa",
        "colab_type": "code",
        "colab": {}
      },
      "source": [
        "rec_places = [i for i in rec_places if i[0] not in user_arr]"
      ],
      "execution_count": 0,
      "outputs": []
    },
    {
      "cell_type": "code",
      "metadata": {
        "id": "HT_ccfyh0YO9",
        "colab_type": "code",
        "outputId": "f020d66c-735b-400f-8b07-7e4fa377bba0",
        "colab": {
          "base_uri": "https://localhost:8080/",
          "height": 212
        }
      },
      "source": [
        "rec_places"
      ],
      "execution_count": 10,
      "outputs": [
        {
          "output_type": "execute_result",
          "data": {
            "text/plain": [
              "[['The Art Institute of Chicago', 'Museums/Art Galleries'],\n",
              " ['State Hermitage Museum in St. Petersburg', 'Museums/Art Galleries'],\n",
              " ['The Musée du Louvre in Paris', 'Museums/Art Galleries'],\n",
              " ['The Metropolitan Museum Of Art in New York City', 'Museums/Art Galleries'],\n",
              " ['Mauritshuis in The Hague, Netherlands', 'Museums/Art Galleries'],\n",
              " ['The San Francisco Museum of Modern Art', 'Museums/Art Galleries'],\n",
              " ['Tate Modern in London', 'Museums/Art Galleries'],\n",
              " ['Museo Nacional Del Prado in Madrid', 'Museums/Art Galleries'],\n",
              " ['The National Palace Museum in Taipei', 'Museums/Art Galleries'],\n",
              " ['The British Museum in London', 'Museums/Art Galleries'],\n",
              " ['Vatican City', 'Historical Monument']]"
            ]
          },
          "metadata": {
            "tags": []
          },
          "execution_count": 10
        }
      ]
    },
    {
      "cell_type": "code",
      "metadata": {
        "id": "hY7ZbOWm18dY",
        "colab_type": "code",
        "colab": {}
      },
      "source": [
        ""
      ],
      "execution_count": 0,
      "outputs": []
    }
  ]
}